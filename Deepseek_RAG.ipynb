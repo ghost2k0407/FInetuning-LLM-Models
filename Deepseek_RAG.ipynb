{
 "cells": [
  {
   "cell_type": "code",
   "execution_count": null,
   "metadata": {},
   "outputs": [],
   "source": [
    "from langchain.vectorstores import FAISS\n",
    "from langchain.chains import RetrievalQA\n",
    "from langchain.chat_models import ChatOpenAI\n",
    "from langchain.embeddings import HuggingFaceEmbeddings\n",
    "from IPython.display import display,Markdown\n",
    "# Initialize OpenRouter LLM\n",
    "llm = ChatOpenAI(\n",
    "    openai_api_base=\"https://openrouter.ai/api/v1\",\n",
    "    openai_api_key=\"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\",\n",
    "    model_name=\"deepseek/deepseek-chat:free\",\n",
    ")\n",
    "\n",
    "embedding_function = HuggingFaceEmbeddings(model_name=\"sentence-transformers/all-MiniLM-L6-v2\")\n",
    "\n",
    "# Load FAISS index (if needed)\n",
    "vector_db = FAISS.load_local(\"faiss_index\", embedding_function, allow_dangerous_deserialization=True)\n",
    "\n",
    "# Use the retriever from FAISS\n",
    "retriever = vector_db.as_retriever()\n",
    "\n",
    "# Create a RAG-based RetrievalQA chain\n",
    "qa_chain = RetrievalQA.from_llm(llm=llm, retriever=retriever)\n",
    "\n",
    "# Ask a question\n",
    "query = input(\"Enter a prompt:\")\n",
    "response = qa_chain.run(query)\n",
    "\n",
    "display(Markdown(response))"
   ]
  }
 ],
 "metadata": {
  "kernelspec": {
   "display_name": "Python 3",
   "language": "python",
   "name": "python3"
  },
  "language_info": {
   "codemirror_mode": {
    "name": "ipython",
    "version": 3
   },
   "file_extension": ".py",
   "mimetype": "text/x-python",
   "name": "python",
   "nbconvert_exporter": "python",
   "pygments_lexer": "ipython3",
   "version": "3.12.7"
  }
 },
 "nbformat": 4,
 "nbformat_minor": 2
}
